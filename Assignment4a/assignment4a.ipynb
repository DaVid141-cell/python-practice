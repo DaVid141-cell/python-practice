{
 "cells": [
  {
   "cell_type": "markdown",
   "id": "a1aa863c",
   "metadata": {},
   "source": [
    "# Task 1: Convert Weights to Pounds"
   ]
  },
  {
   "cell_type": "markdown",
   "id": "f9bbb111",
   "metadata": {},
   "source": [
    "Create a Python list weight_kg with weight values\n",
    "Convert weight_kg to numpy array np_weight_kg\n",
    "Convert np_weight_kg to weight in Pounds np_weight_lbs\n",
    "Hint: Use the conversion factor of 2.2 pounds per kilogram"
   ]
  },
  {
   "cell_type": "code",
   "execution_count": 1,
   "id": "223908f2",
   "metadata": {},
   "outputs": [],
   "source": [
    "import numpy as np"
   ]
  },
  {
   "cell_type": "code",
   "execution_count": null,
   "id": "ed6889d7",
   "metadata": {},
   "outputs": [],
   "source": [
    "weight_kg = [60.5, 50.2, 80.5, 60.6, 65.2, 70.1, 75.8, 80.1]\n",
    "np_weight_kg = np.array(weight_kg)\n",
    "np_weight_lbs = np_weight_kg * 2.2"
   ]
  },
  {
   "cell_type": "code",
   "execution_count": 3,
   "id": "6b08f5fe",
   "metadata": {},
   "outputs": [
    {
     "name": "stdout",
     "output_type": "stream",
     "text": [
      "Weights in Kilograms: [45.5 50.2 55.5 60.6 65.2 70.1 75.8 80.1]\n",
      "Weights in Pounds: [100.1  110.44 122.1  133.32 143.44 154.22 166.76 176.22]\n"
     ]
    }
   ],
   "source": [
    "# Print the converted weights\n",
    "print(\"Weights in Kilograms:\", np_weight_kg)\n",
    "print(\"Weights in Pounds:\", np_weight_lbs)"
   ]
  },
  {
   "cell_type": "markdown",
   "id": "9341e086",
   "metadata": {},
   "source": [
    "# Task 2: Calculate Mean and Median\n",
    "Write a NumPy program to calculate the mean and median of the weights in pounds. Print out the results."
   ]
  },
  {
   "cell_type": "code",
   "execution_count": 4,
   "id": "d1de71ee",
   "metadata": {},
   "outputs": [],
   "source": [
    "import numpy as np"
   ]
  },
  {
   "cell_type": "code",
   "execution_count": null,
   "id": "dd82c76f",
   "metadata": {},
   "outputs": [],
   "source": [
    "weight_kg = [60.5, 50.2, 80.5, 60.6, 65.2, 70.1, 75.8, 80.1]\n",
    "np_weight_kg = np.array(weight_kg)\n",
    "np_weight_lbs = np_weight_kg * 2.2"
   ]
  },
  {
   "cell_type": "code",
   "execution_count": 6,
   "id": "f989eeac",
   "metadata": {},
   "outputs": [
    {
     "name": "stdout",
     "output_type": "stream",
     "text": [
      "Weights in pounds: [100.1  110.44 122.1  133.32 143.44 154.22 166.76 176.22]\n",
      "\n",
      "Mean in pounds: 138.32500000000002\n",
      "\n",
      "Median in pounds: 138.38000000000002\n"
     ]
    }
   ],
   "source": [
    "print(\"Weights in pounds:\", np_weight_lbs)\n",
    "print(\"\\nMean in pounds:\", np.mean(np_weight_lbs))\n",
    "print(\"\\nMedian in pounds:\", np.median(np_weight_lbs))"
   ]
  },
  {
   "cell_type": "markdown",
   "id": "9c914da6",
   "metadata": {},
   "source": [
    "# Task 3: Create 2D Array\n",
    "Create a NumPy array np_height_m containing the heights of individuals in meters.\n",
    "Combine this array with the weights in pounds np_weight_lbs to create a 2D array np_person_info where each row represents an individual's height and weight.\n",
    "Print the resulting 2D array."
   ]
  },
  {
   "cell_type": "code",
   "execution_count": 23,
   "id": "28308de5",
   "metadata": {},
   "outputs": [],
   "source": [
    "import numpy as np"
   ]
  },
  {
   "cell_type": "code",
   "execution_count": 24,
   "id": "d2aebff7",
   "metadata": {},
   "outputs": [],
   "source": [
    "weight_kg = [60.5, 50.2, 80.5, 60.6, 65.2, 70.1, 75.8, 80.1]\n",
    "\n",
    "np_weight_kg = np.array(weight_kg)\n",
    "np_height_m = np.array([1.54, 3.60, 1.65, 1.2, 2.75, 1.02, 4.85, 1.90])\n",
    "np_weight_lbs = np_weight_kg * 2.2\n",
    "\n",
    "np_person_info = np.column_stack((np_weight_lbs, np_height_m,))"
   ]
  },
  {
   "cell_type": "code",
   "execution_count": 25,
   "id": "4b583ca9",
   "metadata": {},
   "outputs": [
    {
     "name": "stdout",
     "output_type": "stream",
     "text": [
      "Weights and heights of individuals:\n",
      "[[133.1    1.54]\n",
      " [110.44   3.6 ]\n",
      " [177.1    1.65]\n",
      " [133.32   1.2 ]\n",
      " [143.44   2.75]\n",
      " [154.22   1.02]\n",
      " [166.76   4.85]\n",
      " [176.22   1.9 ]]\n",
      "\n",
      "Array is: 2D\n"
     ]
    }
   ],
   "source": [
    "print(\"Weights and heights of individuals:\")\n",
    "print(np_person_info)\n",
    "print(f\"\\nArray is: {np_person_info.ndim}D\",)"
   ]
  },
  {
   "cell_type": "markdown",
   "id": "43de62fe",
   "metadata": {},
   "source": [
    "# Task 4: Calculate BMI\n",
    "Write a function that takes the 2D array np_person_info created in Task 3 as input.\n",
    "Calculate the Body Mass Index (BMI) for each individual as bmi_array. BMI is calculated using the formula: BMI = weight (kg) / (height (m) ** 2).\n",
    "Print the BMI values for each individual."
   ]
  },
  {
   "cell_type": "code",
   "execution_count": 18,
   "id": "5400415c",
   "metadata": {},
   "outputs": [],
   "source": [
    "import numpy as np"
   ]
  },
  {
   "cell_type": "code",
   "execution_count": 19,
   "id": "818fccd7",
   "metadata": {},
   "outputs": [],
   "source": [
    "weight_kg = [60.5, 50.2, 80.5, 60.6, 65.2, 70.1, 75.8, 80.1]\n",
    "\n",
    "np_weight_kg = np.array(weight_kg)\n",
    "np_height_m = np.array([1.54, 3.60, 1.65, 1.2, 2.75, 1.02, 4.85, 1.90])\n",
    "np_weight_lbs = np_weight_kg * 2.2\n",
    "\n",
    "np_person_info = np.column_stack((np_weight_lbs, np_height_m,))"
   ]
  },
  {
   "cell_type": "code",
   "execution_count": 20,
   "id": "acfbd539",
   "metadata": {
    "lines_to_next_cell": 1
   },
   "outputs": [],
   "source": [
    "def calculate_bmi(person_info):\n",
    "    # Extract weights in kg and heights in m from the 2D array\n",
    "    weights_kg = person_info[:, 0] / 2.2  # Convert pounds to kg\n",
    "    heights_m = person_info[:, 1]\n",
    "    \n",
    "    # Calculate BMI\n",
    "    bmi_array = (weights_kg / (heights_m ** 2))\n",
    "    return bmi_array"
   ]
  },
  {
   "cell_type": "code",
   "execution_count": 21,
   "id": "74474597",
   "metadata": {},
   "outputs": [
    {
     "name": "stdout",
     "output_type": "stream",
     "text": [
      "Weights and heights of individuals:\n",
      "[[133.1    1.54]\n",
      " [110.44   3.6 ]\n",
      " [177.1    1.65]\n",
      " [133.32   1.2 ]\n",
      " [143.44   2.75]\n",
      " [154.22   1.02]\n",
      " [166.76   4.85]\n",
      " [176.22   1.9 ]]\n",
      "\n",
      "BMI values for each individual:\n",
      "[25.51020408  3.87345679 29.56841139 42.08333333  8.6214876  67.37793156\n",
      "  3.22244659 22.18836565]\n"
     ]
    }
   ],
   "source": [
    "# Calculate BMI for each individual\n",
    "bmi_values = calculate_bmi(np_person_info)\n",
    "\n",
    "print(\"Weights and heights of individuals:\")\n",
    "print(np_person_info)\n",
    "print(\"\\nBMI values for each individual:\")\n",
    "print(bmi_values)"
   ]
  },
  {
   "cell_type": "markdown",
   "id": "ceb80689",
   "metadata": {},
   "source": [
    "# Task 5: Filter Individuals by BMI\n",
    "Write a NumPy program to append bmi_array to np_person_info \n",
    "Filter individuals from the resulting array who have a BMI greater than 25.\n",
    "Print the filtered results."
   ]
  },
  {
   "cell_type": "code",
   "execution_count": 26,
   "id": "509b0d44",
   "metadata": {},
   "outputs": [],
   "source": [
    "import numpy as np"
   ]
  },
  {
   "cell_type": "code",
   "execution_count": 27,
   "id": "1163d4f6",
   "metadata": {},
   "outputs": [],
   "source": [
    "weight_kg = [60.5, 50.2, 80.5, 60.6, 65.2, 70.1, 75.8, 80.1]\n",
    "\n",
    "np_weight_kg = np.array(weight_kg)\n",
    "np_height_m = np.array([1.54, 3.60, 1.65, 1.2, 2.75, 1.02, 4.85, 1.90])\n",
    "np_weight_lbs = np_weight_kg * 2.2\n",
    "\n",
    "np_person_info = np.column_stack((np_weight_lbs, np_height_m,))"
   ]
  },
  {
   "cell_type": "code",
   "execution_count": 28,
   "id": "bce84788",
   "metadata": {
    "lines_to_next_cell": 1
   },
   "outputs": [],
   "source": [
    "def calculate_bmi(person_info):\n",
    "    # Extract weights in kg and heights in m from the 2D array\n",
    "    weights_kg = person_info[:, 0] / 2.2  # Convert pounds to kg\n",
    "    heights_m = person_info[:, 1]\n",
    "    \n",
    "    # Calculate BMI\n",
    "    bmi_array = (weights_kg / (heights_m ** 2))\n",
    "    return bmi_array"
   ]
  },
  {
   "cell_type": "code",
   "execution_count": 29,
   "id": "2e168cdd",
   "metadata": {},
   "outputs": [],
   "source": [
    "# Calculate BMI for each individual\n",
    "bmi_values = calculate_bmi(np_person_info)\n",
    "\n",
    "# Append the BMI values into the 2D array in person_info\n",
    "np_person_info_bmi = np.column_stack((np_person_info, bmi_values))\n",
    "\n",
    "# Filtered the results that is greater than 25\n",
    "filerted_results = np_person_info_bmi[bmi_values > 25]"
   ]
  },
  {
   "cell_type": "code",
   "execution_count": 30,
   "id": "5f9f4fbe",
   "metadata": {},
   "outputs": [
    {
     "name": "stdout",
     "output_type": "stream",
     "text": [
      "\n",
      "BMI values for each individual:\n",
      "[25.51020408  3.87345679 29.56841139 42.08333333  8.6214876  67.37793156\n",
      "  3.22244659 22.18836565]\n",
      "Filtered Results: (w/h/bmi)\n",
      "[[133.1          1.54        25.51020408]\n",
      " [177.1          1.65        29.56841139]\n",
      " [133.32         1.2         42.08333333]\n",
      " [154.22         1.02        67.37793156]]\n"
     ]
    }
   ],
   "source": [
    "print(\"\\nBMI values for each individual:\")\n",
    "print(bmi_values)\n",
    "print(\"Filtered Results: (w/h/bmi)\")\n",
    "print(filerted_results)"
   ]
  }
 ],
 "metadata": {
  "jupytext": {
   "cell_metadata_filter": "-all",
   "main_language": "python",
   "notebook_metadata_filter": "-all"
  },
  "kernelspec": {
   "display_name": "Python 3",
   "language": "python",
   "name": "python3"
  },
  "language_info": {
   "codemirror_mode": {
    "name": "ipython",
    "version": 3
   },
   "file_extension": ".py",
   "mimetype": "text/x-python",
   "name": "python",
   "nbconvert_exporter": "python",
   "pygments_lexer": "ipython3",
   "version": "3.13.5"
  }
 },
 "nbformat": 4,
 "nbformat_minor": 5
}
