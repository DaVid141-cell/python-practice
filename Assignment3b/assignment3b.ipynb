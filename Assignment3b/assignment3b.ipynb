{
 "cells": [
  {
   "cell_type": "markdown",
   "id": "1ff402ae",
   "metadata": {},
   "source": [
    "# Task 1: Opening and Reading a File\n",
    "Write a program that opens a file named sample.txt in read mode and prints its content."
   ]
  },
  {
   "cell_type": "code",
   "execution_count": 1,
   "id": "a3d4aa2c",
   "metadata": {},
   "outputs": [],
   "source": [
    "read_file = open('sample.txt', 'r')"
   ]
  },
  {
   "cell_type": "code",
   "execution_count": 2,
   "id": "152c311b",
   "metadata": {},
   "outputs": [],
   "source": [
    "content_file = read_file.read()"
   ]
  },
  {
   "cell_type": "code",
   "execution_count": 3,
   "id": "658a81c2",
   "metadata": {},
   "outputs": [
    {
     "name": "stdout",
     "output_type": "stream",
     "text": [
      "<_io.TextIOWrapper name='sample.txt' mode='r' encoding='cp1252'>\n",
      "ledger_part1\n",
      "500\n",
      "1200\n",
      "900\n",
      "700\n",
      "1500\n",
      "\n",
      "parchment_of_profits\n",
      "300\n",
      "-150\n",
      "450\n",
      "600\n",
      "-200\n",
      "\n",
      "debt_records\n",
      "-100\n",
      "-300\n",
      "-50\n",
      "-250\n",
      "\n"
     ]
    }
   ],
   "source": [
    "print(read_file)\n",
    "# This prints the actual content of the file\n",
    "print(content_file)"
   ]
  },
  {
   "cell_type": "markdown",
   "id": "d1924bdd",
   "metadata": {},
   "source": [
    "# Task 2: Reading a Specific Number of Characters\n",
    "Modify the previous task to read only the first 10 characters of the file."
   ]
  },
  {
   "cell_type": "code",
   "execution_count": 4,
   "id": "031484c5",
   "metadata": {},
   "outputs": [],
   "source": [
    "read_file = open('sample.txt', 'r')"
   ]
  },
  {
   "cell_type": "code",
   "execution_count": 5,
   "id": "323567dc",
   "metadata": {},
   "outputs": [],
   "source": [
    "# Read the first 10 characters\n",
    "content_file = read_file.read(10)"
   ]
  },
  {
   "cell_type": "code",
   "execution_count": 6,
   "id": "e6245b9b",
   "metadata": {},
   "outputs": [
    {
     "name": "stdout",
     "output_type": "stream",
     "text": [
      "ledger_par\n"
     ]
    }
   ],
   "source": [
    "print(content_file)"
   ]
  },
  {
   "cell_type": "markdown",
   "id": "83fb35e4",
   "metadata": {},
   "source": [
    "# Task 3: Using .readlines() Method\n",
    "Write a program that reads all lines of a file into a list and prints them one by one."
   ]
  },
  {
   "cell_type": "code",
   "execution_count": 7,
   "id": "ccde98ed",
   "metadata": {},
   "outputs": [],
   "source": [
    "read_file = open('sample.txt', 'r')"
   ]
  },
  {
   "cell_type": "code",
   "execution_count": 8,
   "id": "45cb791d",
   "metadata": {},
   "outputs": [],
   "source": [
    "file_lines = read_file.readlines()"
   ]
  },
  {
   "cell_type": "code",
   "execution_count": 9,
   "id": "337edfac",
   "metadata": {},
   "outputs": [
    {
     "name": "stdout",
     "output_type": "stream",
     "text": [
      "ledger_part1\n",
      "\n",
      "500\n",
      "\n",
      "1200\n",
      "\n",
      "900\n",
      "\n",
      "700\n",
      "\n",
      "1500\n",
      "\n",
      "\n",
      "\n",
      "parchment_of_profits\n",
      "\n",
      "300\n",
      "\n",
      "-150\n",
      "\n",
      "450\n",
      "\n",
      "600\n",
      "\n",
      "-200\n",
      "\n",
      "\n",
      "\n",
      "debt_records\n",
      "\n",
      "-100\n",
      "\n",
      "-300\n",
      "\n",
      "-50\n",
      "\n",
      "-250\n",
      "\n"
     ]
    }
   ],
   "source": [
    "# Loop through the list and print each line\n",
    "for line in file_lines:\n",
    "    print(line)"
   ]
  },
  {
   "cell_type": "markdown",
   "id": "07f863e9",
   "metadata": {},
   "source": [
    "# Task 4: Using .readline() Method\n",
    "Modify the program to read only the first line of the file."
   ]
  },
  {
   "cell_type": "code",
   "execution_count": 10,
   "id": "68b87850",
   "metadata": {},
   "outputs": [],
   "source": [
    "read_file = open('sample.txt', 'r')"
   ]
  },
  {
   "cell_type": "code",
   "execution_count": 11,
   "id": "a656e80b",
   "metadata": {},
   "outputs": [
    {
     "name": "stdout",
     "output_type": "stream",
     "text": [
      "ledger_part1\n",
      "\n"
     ]
    }
   ],
   "source": [
    "# Read the first line only\n",
    "line1 = read_file.readline()\n",
    "print(line1)"
   ]
  },
  {
   "cell_type": "markdown",
   "id": "b69540d4",
   "metadata": {},
   "source": [
    "# Task 5: Using .strip() Method with Arguments\n",
    "Given a file with extra spaces or newlines, read its content and remove unwanted spaces."
   ]
  },
  {
   "cell_type": "code",
   "execution_count": 12,
   "id": "6f893465",
   "metadata": {},
   "outputs": [],
   "source": [
    "read_file = open('sample.txt', 'r')"
   ]
  },
  {
   "cell_type": "code",
   "execution_count": 13,
   "id": "d537c6a9",
   "metadata": {},
   "outputs": [
    {
     "name": "stdout",
     "output_type": "stream",
     "text": [
      "ledger_part1\n",
      "\n",
      "500\n",
      "\n",
      "1200\n",
      "\n",
      "900\n",
      "\n",
      "700\n",
      "\n",
      "1500\n",
      "\n",
      "\n",
      "\n",
      "parchment_of_profits\n",
      "\n",
      "300\n",
      "\n",
      "-150\n",
      "\n",
      "450\n",
      "\n",
      "600\n",
      "\n",
      "-200\n",
      "\n",
      "\n",
      "\n",
      "debt_records\n",
      "\n",
      "-100\n",
      "\n",
      "-300\n",
      "\n",
      "-50\n",
      "\n",
      "-250\n",
      "\n"
     ]
    }
   ],
   "source": [
    "# First: Open and read the file, but print each line as it is (with spaces/newlines)\n",
    "with open('sample.txt', 'r') as read_file:\n",
    "    file_line = read_file.readline()\n",
    "    while file_line:\n",
    "        print(file_line)  # prints with spaces/newlines\n",
    "        file_line = read_file.readline()"
   ]
  },
  {
   "cell_type": "code",
   "execution_count": 14,
   "id": "d919e33a",
   "metadata": {},
   "outputs": [
    {
     "name": "stdout",
     "output_type": "stream",
     "text": [
      "ledger_part1\n",
      "500\n",
      "1200\n",
      "900\n",
      "700\n",
      "1500\n",
      "\n",
      "parchment_of_profits\n",
      "300\n",
      "-150\n",
      "450\n",
      "600\n",
      "-200\n",
      "\n",
      "debt_records\n",
      "-100\n",
      "-300\n",
      "-50\n",
      "-250\n"
     ]
    }
   ],
   "source": [
    "# Second: Open and read the file, but clean each line using .strip()\n",
    "with open('sample.txt', 'r') as read_file:\n",
    "    for line in read_file:\n",
    "        print(line.strip())"
   ]
  }
 ],
 "metadata": {
  "jupytext": {
   "cell_metadata_filter": "-all",
   "main_language": "python",
   "notebook_metadata_filter": "-all"
  },
  "kernelspec": {
   "display_name": "Python 3",
   "language": "python",
   "name": "python3"
  },
  "language_info": {
   "codemirror_mode": {
    "name": "ipython",
    "version": 3
   },
   "file_extension": ".py",
   "mimetype": "text/x-python",
   "name": "python",
   "nbconvert_exporter": "python",
   "pygments_lexer": "ipython3",
   "version": "3.13.5"
  }
 },
 "nbformat": 4,
 "nbformat_minor": 5
}
