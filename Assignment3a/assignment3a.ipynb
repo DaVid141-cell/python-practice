{
 "cells": [
  {
   "cell_type": "markdown",
   "id": "77e6b66e",
   "metadata": {},
   "source": [
    "# Task 1: Creating and Calling Functions\n",
    "Write a function greet_user that takes a name as input and prints a greeting message."
   ]
  },
  {
   "cell_type": "code",
   "execution_count": 5,
   "id": "d3376f76",
   "metadata": {
    "lines_to_next_cell": 1
   },
   "outputs": [],
   "source": [
    "# Function to greet the user\n",
    "def greet(user):\n",
    "    print(f\"Hello {user}, nice to meet you!\")"
   ]
  },
  {
   "cell_type": "code",
   "execution_count": 6,
   "id": "01a9b594",
   "metadata": {},
   "outputs": [],
   "source": [
    "# Get user input\n",
    "user = input(\"Enter your username: \")"
   ]
  },
  {
   "cell_type": "code",
   "execution_count": 7,
   "id": "2ee08d25",
   "metadata": {
    "lines_to_next_cell": 1
   },
   "outputs": [
    {
     "name": "stdout",
     "output_type": "stream",
     "text": [
      "Hello David, nice to meet you!\n"
     ]
    }
   ],
   "source": [
    "# Call the function with the user input\n",
    "greet(user)"
   ]
  },
  {
   "cell_type": "markdown",
   "id": "878c59f5",
   "metadata": {},
   "source": [
    "# Task 2: Function with Return Value\n",
    "Write a function square_number that takes a number as input and returns its square(s)."
   ]
  },
  {
   "cell_type": "code",
   "execution_count": null,
   "id": "fc195264",
   "metadata": {
    "lines_to_next_cell": 1
   },
   "outputs": [],
   "source": [
    "def square_number(num):\n",
    "    # generate list of squares from 1 to n\n",
    "    return num ** 2 "
   ]
  },
  {
   "cell_type": "code",
   "execution_count": null,
   "id": "f049af3c",
   "metadata": {},
   "outputs": [],
   "source": [
    "# Get user input\n",
    "num = int(input(\"Enter a number: \"))\n",
    "result = square_number(num)"
   ]
  },
  {
   "cell_type": "code",
   "execution_count": null,
   "id": "42487f73",
   "metadata": {
    "lines_to_next_cell": 1
   },
   "outputs": [],
   "source": [
    "print(result)"
   ]
  },
  {
   "cell_type": "markdown",
   "id": "19c550c6",
   "metadata": {},
   "source": [
    "# Task 3: Using Methods on Strings\n",
    "Given a string, use string methods to convert it to uppercase, lowercase, and check if it starts with a specific word"
   ]
  },
  {
   "cell_type": "code",
   "execution_count": null,
   "id": "beffb6ec",
   "metadata": {
    "lines_to_next_cell": 1
   },
   "outputs": [],
   "source": [
    "def string_methods(input_string):\n",
    "    # Convert to uppercase\n",
    "    upper_string = input_string.upper()\n",
    "    # Convert to lowercase\n",
    "    lower_string = input_string.lower()\n",
    "    # Check if it starts with a specific word\n",
    "    starts_with = input_string.startswith(\"hello\")\n",
    "    \n",
    "    return upper_string, lower_string, starts_with"
   ]
  },
  {
   "cell_type": "code",
   "execution_count": null,
   "id": "c4d33069",
   "metadata": {},
   "outputs": [],
   "source": [
    "# Get user input\n",
    "input_string = input(\"Enter a string: \")\n",
    "result_upper, result_lower, starts_with_hello = string_methods(input_string)"
   ]
  },
  {
   "cell_type": "code",
   "execution_count": null,
   "id": "9fc47a75",
   "metadata": {
    "lines_to_next_cell": 1
   },
   "outputs": [],
   "source": [
    "print(\"Uppercase:\", result_upper)\n",
    "print(\"Lowercase:\", result_lower)\n",
    "print(\"Starts with 'Hello':\", starts_with_hello)"
   ]
  },
  {
   "cell_type": "markdown",
   "id": "dc1f88b9",
   "metadata": {},
   "source": [
    "# Task 4: Using Methods on Lists\n",
    "Create a list of numbers and demonstrate append(), remove(), and sort() methods."
   ]
  },
  {
   "cell_type": "code",
   "execution_count": 1,
   "id": "c8780638",
   "metadata": {
    "lines_to_next_cell": 1
   },
   "outputs": [],
   "source": [
    "def method_list(input_add, input_remove):\n",
    "    my_list = [\"java\", \"php\", \"python\", \"c++\", \"ruby\"]\n",
    "\n",
    "    my_list.append(input_add)\n",
    "    after_append = my_list.copy()\n",
    "\n",
    "    for item in my_list:\n",
    "        if item.lower() == input_remove.lower():\n",
    "            my_list.remove(item)\n",
    "            break\n",
    "    after_remove = my_list.copy()\n",
    "\n",
    "    my_list.sort()\n",
    "    after_sort = my_list.copy()\n",
    "    \n",
    "    return after_append, after_remove, after_sort"
   ]
  },
  {
   "cell_type": "code",
   "execution_count": 2,
   "id": "75166d50",
   "metadata": {},
   "outputs": [],
   "source": [
    "# Get user input for append and remove\n",
    "input_add = input(\"Add Data: \")\n",
    "input_remove = input(\"Remove Data: \")"
   ]
  },
  {
   "cell_type": "code",
   "execution_count": 3,
   "id": "bbe072cb",
   "metadata": {
    "lines_to_next_cell": 2
   },
   "outputs": [],
   "source": [
    "after_append, after_remove, after_sort = method_list(input_add, input_remove)"
   ]
  },
  {
   "cell_type": "code",
   "execution_count": 4,
   "id": "bb5a040c",
   "metadata": {},
   "outputs": [
    {
     "name": "stdout",
     "output_type": "stream",
     "text": [
      "List after append:  ['java', 'php', 'python', 'c++', 'ruby', 'Swift']\n",
      "\n",
      "List after remove:  ['php', 'python', 'c++', 'ruby', 'Swift']\n",
      "\n",
      "List after sorting:  ['Swift', 'c++', 'php', 'python', 'ruby']\n"
     ]
    }
   ],
   "source": [
    "print(\"List after append: \", after_append)\n",
    "print(\"\\nList after remove: \", after_remove)\n",
    "print(\"\\nList after sorting: \", after_sort)"
   ]
  },
  {
   "cell_type": "markdown",
   "id": "44c44f73",
   "metadata": {},
   "source": [
    "# Task 5: Working with Packages\n",
    "Import the math package and use its methods to find the square root and factorial of a given number."
   ]
  },
  {
   "cell_type": "code",
   "execution_count": null,
   "id": "f41c99b5",
   "metadata": {
    "lines_to_next_cell": 1
   },
   "outputs": [],
   "source": [
    "import math"
   ]
  },
  {
   "cell_type": "code",
   "execution_count": null,
   "id": "aaf5ae22",
   "metadata": {
    "lines_to_next_cell": 1
   },
   "outputs": [],
   "source": [
    "def math_methods(number):\n",
    "    # Calculate square root\n",
    "    square_root = math.sqrt(number)\n",
    "    # Calculate factorial\n",
    "    factorial = math.factorial(number)\n",
    "    \n",
    "    return square_root, factorial"
   ]
  },
  {
   "cell_type": "code",
   "execution_count": null,
   "id": "58a3ffe2",
   "metadata": {},
   "outputs": [],
   "source": [
    "# Get user input\n",
    "input_number = int(input(\"Enter a number: \"))\n",
    "square_root_result, factorial_result = math_methods(input_number)"
   ]
  },
  {
   "cell_type": "code",
   "execution_count": null,
   "id": "fc04cf75",
   "metadata": {},
   "outputs": [],
   "source": [
    "print(\"Square root:\", square_root_result)\n",
    "print(\"Factorial:\", factorial_result)"
   ]
  }
 ],
 "metadata": {
  "jupytext": {
   "cell_metadata_filter": "-all",
   "main_language": "python",
   "notebook_metadata_filter": "-all"
  },
  "kernelspec": {
   "display_name": "Python 3",
   "language": "python",
   "name": "python3"
  },
  "language_info": {
   "codemirror_mode": {
    "name": "ipython",
    "version": 3
   },
   "file_extension": ".py",
   "mimetype": "text/x-python",
   "name": "python",
   "nbconvert_exporter": "python",
   "pygments_lexer": "ipython3",
   "version": "3.13.5"
  }
 },
 "nbformat": 4,
 "nbformat_minor": 5
}
