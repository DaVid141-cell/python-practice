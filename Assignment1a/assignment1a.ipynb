{
 "cells": [
  {
   "cell_type": "markdown",
   "id": "f3ebe8f9",
   "metadata": {},
   "source": [
    "# Task 1: Understanding Data Types and Variables\n",
    "Write a Python program that takes user input for their name, age, and height.\n",
    "Display the type of each input variable and convert age and height to appropriate types."
   ]
  },
  {
   "cell_type": "code",
   "execution_count": null,
   "id": "a2c1da8c",
   "metadata": {},
   "outputs": [],
   "source": [
    "# Get user input\n",
    "name = input(\"Enter your name: \")\n",
    "age = input(\"Enter your age: \")\n",
    "height = input(\"Enter your height in meters: \")"
   ]
  },
  {
   "cell_type": "code",
   "execution_count": null,
   "id": "a654ba04",
   "metadata": {},
   "outputs": [],
   "source": [
    "# Display the type of each input variable\n",
    "print(f\"Name: {name}, Type: {type(name)}\")\n",
    "print(f\"Age: {age}, Type: {type(age)}\")\n",
    "print(f\"Height: {height}, Type: {type(height)}\")"
   ]
  },
  {
   "cell_type": "code",
   "execution_count": null,
   "id": "13c37070",
   "metadata": {},
   "outputs": [],
   "source": [
    "#Convert age and height to appropriate types\n",
    "age = int(age)  \n",
    "height = float(height)"
   ]
  },
  {
   "cell_type": "code",
   "execution_count": null,
   "id": "1a23087d",
   "metadata": {},
   "outputs": [],
   "source": [
    "# Display the converted types\n",
    "print(f\"\\nConverted Age: {age}, Type: {type(age)}\")\n",
    "print(f\"Converted Height: {height}, Type: {type(height)}\")"
   ]
  },
  {
   "cell_type": "code",
   "execution_count": null,
   "id": "f110683f",
   "metadata": {},
   "outputs": [],
   "source": [
    "print(\"\\nHello\", name, \"! You are\", age, \"years old and\", height, \"meters tall.\")"
   ]
  },
  {
   "cell_type": "markdown",
   "id": "110ef11c",
   "metadata": {},
   "source": [
    "# Task 2: If Comparison and String Comparison\n",
    "Write a program that asks for a user's favorite color and a number.\n",
    "If the color is \"Blue\" and the number is greater than 10, print \"Great choice!\" otherwise, print \"Nice selection!\""
   ]
  },
  {
   "cell_type": "code",
   "execution_count": null,
   "id": "827f2c25",
   "metadata": {},
   "outputs": [],
   "source": [
    "# Get user input for favorite color and number\n",
    "favorite_color = input(\"Input your Favorite Color:\")\n",
    "number = input(\"Input your Favorite Number:\")"
   ]
  },
  {
   "cell_type": "code",
   "execution_count": null,
   "id": "8f5b3920",
   "metadata": {},
   "outputs": [],
   "source": [
    "# Convert number to integer\n",
    "number = int(number)"
   ]
  },
  {
   "cell_type": "code",
   "execution_count": null,
   "id": "ac87d179",
   "metadata": {},
   "outputs": [],
   "source": [
    "# Check conditions and print appropriate messages\n",
    "if favorite_color.lower() == \"Blue\" and number > 10:\n",
    "    print(\"Great choice!\")\n",
    "else:\n",
    "    print(\"Nice selection!\")"
   ]
  },
  {
   "cell_type": "markdown",
   "id": "d7263b9a",
   "metadata": {},
   "source": [
    "# Task 3: Nested Conditionals\n",
    "Create a program that takes a number as input and categorizes it as positive, negative, or zero.\n",
    "If the number is positive, further check if it is even or odd."
   ]
  },
  {
   "cell_type": "code",
   "execution_count": null,
   "id": "24cd99d7",
   "metadata": {
    "lines_to_next_cell": 2
   },
   "outputs": [],
   "source": [
    "number = int(input(\"Enter a Number:\"))\n",
    "# Check if the number is positive, negative, or zero\n",
    "if number > 0:\n",
    "    print(\"The number is positive.\")\n",
    "    # Check if the positive number is even or odd\n",
    "    if number % 2 == 0:\n",
    "        print(\"The number is even.\")\n",
    "    else:\n",
    "        print(\"The number is odd.\")\n",
    "elif number < 0:\n",
    "    print(\"The number is negative.\")\n",
    "elif number == 0:\n",
    "    print(\"The number is zero.\")\n",
    "# Display the type of the input number\n",
    "print(f\"\\nThe type of the input number is: {number} {type(number)}\")"
   ]
  },
  {
   "cell_type": "markdown",
   "id": "732baa83",
   "metadata": {},
   "source": [
    "# Task 4: While True Loop with Boolean Comparisons\n",
    "Write a program that asks for a password and keeps asking until the correct password is entered.\n",
    "Also, limit the number of attempts to 3."
   ]
  },
  {
   "cell_type": "code",
   "execution_count": 1,
   "id": "a9f6b384",
   "metadata": {},
   "outputs": [],
   "source": [
    "create_password = input(\"Create your own password:\")\n",
    "attempts = 3"
   ]
  },
  {
   "cell_type": "code",
   "execution_count": 2,
   "id": "afb2568c",
   "metadata": {},
   "outputs": [
    {
     "name": "stdout",
     "output_type": "stream",
     "text": [
      "Password is been saved!\n"
     ]
    }
   ],
   "source": [
    "print(\"Password is been saved!\")"
   ]
  },
  {
   "cell_type": "code",
   "execution_count": 3,
   "id": "4ac36bbe",
   "metadata": {
    "lines_to_next_cell": 2
   },
   "outputs": [
    {
     "name": "stdout",
     "output_type": "stream",
     "text": [
      "Incorrect password. You have 2 attempts left.\n",
      "\n",
      "Access granted!\n"
     ]
    }
   ],
   "source": [
    "while attempts > 0:\n",
    "    password = input(\"\\nEnter the password: \")\n",
    "    if password == create_password:\n",
    "        print(\"\\nAccess granted!\")\n",
    "        break\n",
    "    else:\n",
    "        attempts -= 1\n",
    "        print(f\"Incorrect password. You have {attempts} attempts left.\")\n",
    "        if attempts == 0:\n",
    "            print(\"Access denied. No attempts left.\")"
   ]
  },
  {
   "cell_type": "markdown",
   "id": "c953e7a4",
   "metadata": {
    "lines_to_next_cell": 2
   },
   "source": [
    "# Task 5: For Loop and Ternary Operator\n",
    "Write a program that prints whether each number in a range from 1 to 20 is even or odd."
   ]
  },
  {
   "cell_type": "code",
   "execution_count": 1,
   "id": "5ff7d0c9",
   "metadata": {
    "lines_to_next_cell": 2
   },
   "outputs": [
    {
     "name": "stdout",
     "output_type": "stream",
     "text": [
      "The number 1 is odd.\n",
      "The number 2 is even.\n",
      "The number 3 is odd.\n",
      "The number 4 is even.\n",
      "The number 5 is odd.\n",
      "The number 6 is even.\n",
      "The number 7 is odd.\n",
      "The number 8 is even.\n",
      "The number 9 is odd.\n",
      "The number 10 is even.\n",
      "The number 11 is odd.\n",
      "The number 12 is even.\n",
      "The number 13 is odd.\n",
      "The number 14 is even.\n",
      "The number 15 is odd.\n",
      "The number 16 is even.\n",
      "The number 17 is odd.\n",
      "The number 18 is even.\n",
      "The number 19 is odd.\n",
      "The number 20 is even.\n"
     ]
    }
   ],
   "source": [
    "for number in range(1, 21):\n",
    "   \n",
    "    # Use a ternary operator to determine if the number is even or odd\n",
    "    result = \"even\" if number % 2 == 0 else \"odd\"\n",
    "    print(f\"The number {number} is {result}.\")"
   ]
  },
  {
   "cell_type": "markdown",
   "id": "61bdcfb2",
   "metadata": {},
   "source": [
    "# Task 6: Looping with a Condition\n",
    "Write a program that sums up numbers from 1 to a user-given number using a while loop."
   ]
  },
  {
   "cell_type": "code",
   "execution_count": 2,
   "id": "a707cb17",
   "metadata": {},
   "outputs": [],
   "source": [
    "# Get user input for the upper limit\n",
    "upper_limit = int(input(\"Enter a number to sum up to: \"))"
   ]
  },
  {
   "cell_type": "code",
   "execution_count": 3,
   "id": "c52dcfa5",
   "metadata": {},
   "outputs": [],
   "source": [
    "current_number = 1\n",
    "total_sum = 0"
   ]
  },
  {
   "cell_type": "code",
   "execution_count": 4,
   "id": "3b7b9ff0",
   "metadata": {
    "lines_to_next_cell": 2
   },
   "outputs": [],
   "source": [
    "while current_number <= upper_limit:\n",
    "    total_sum += current_number\n",
    "    current_number += 1"
   ]
  },
  {
   "cell_type": "code",
   "execution_count": 5,
   "id": "c229fb92",
   "metadata": {},
   "outputs": [
    {
     "name": "stdout",
     "output_type": "stream",
     "text": [
      "The total sum of numbers from 1 to 2 is: 3\n"
     ]
    }
   ],
   "source": [
    "print(f\"The total sum of numbers from 1 to {upper_limit} is: {total_sum}\")"
   ]
  }
 ],
 "metadata": {
  "jupytext": {
   "cell_metadata_filter": "-all",
   "main_language": "python",
   "notebook_metadata_filter": "-all"
  },
  "kernelspec": {
   "display_name": "Python 3",
   "language": "python",
   "name": "python3"
  },
  "language_info": {
   "codemirror_mode": {
    "name": "ipython",
    "version": 3
   },
   "file_extension": ".py",
   "mimetype": "text/x-python",
   "name": "python",
   "nbconvert_exporter": "python",
   "pygments_lexer": "ipython3",
   "version": "3.13.5"
  }
 },
 "nbformat": 4,
 "nbformat_minor": 5
}
