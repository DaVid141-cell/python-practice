{
 "cells": [
  {
   "cell_type": "markdown",
   "id": "e8a1a489",
   "metadata": {},
   "source": [
    "# Task 1: Understanding Data Types and Variables\n",
    "Write a Python program that takes user input for their name, age, and height.\n",
    "Display the type of each input variable and convert age and height to appropriate types."
   ]
  },
  {
   "cell_type": "code",
   "execution_count": null,
   "id": "77f1bfb3",
   "metadata": {},
   "outputs": [],
   "source": [
    "# Get user input\n",
    "name = input(\"Enter your name: \")\n",
    "age = input(\"Enter your age: \")\n",
    "height = input(\"Enter your height in meters: \")"
   ]
  },
  {
   "cell_type": "code",
   "execution_count": null,
   "id": "1452cfbb",
   "metadata": {},
   "outputs": [],
   "source": [
    "# Display the type of each input variable\n",
    "print(f\"Name: {name}, Type: {type(name)}\")\n",
    "print(f\"Age: {age}, Type: {type(age)}\")\n",
    "print(f\"Height: {height}, Type: {type(height)}\")"
   ]
  },
  {
   "cell_type": "code",
   "execution_count": null,
   "id": "416d0462",
   "metadata": {},
   "outputs": [],
   "source": [
    "#Convert age and height to appropriate types\n",
    "age = int(age)  \n",
    "height = float(height)"
   ]
  },
  {
   "cell_type": "code",
   "execution_count": null,
   "id": "24038e74",
   "metadata": {},
   "outputs": [],
   "source": [
    "# Display the converted types\n",
    "print(f\"\\nConverted Age: {age}, Type: {type(age)}\")\n",
    "print(f\"Converted Height: {height}, Type: {type(height)}\")"
   ]
  },
  {
   "cell_type": "code",
   "execution_count": null,
   "id": "ba25d8f7",
   "metadata": {},
   "outputs": [],
   "source": [
    "print(\"\\nHello\", name, \"! You are\", age, \"years old and\", height, \"meters tall.\")"
   ]
  }
 ],
 "metadata": {
  "jupytext": {
   "cell_metadata_filter": "-all",
   "main_language": "python",
   "notebook_metadata_filter": "-all"
  }
 },
 "nbformat": 4,
 "nbformat_minor": 5
}
