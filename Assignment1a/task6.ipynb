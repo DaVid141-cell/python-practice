{
 "cells": [
  {
   "cell_type": "markdown",
   "id": "67acef77",
   "metadata": {},
   "source": [
    "# Task 6: Looping with a Condition\n",
    "Write a program that sums up numbers from 1 to a user-given number using a while loop."
   ]
  },
  {
   "cell_type": "code",
   "execution_count": null,
   "id": "4bf78ab9",
   "metadata": {},
   "outputs": [],
   "source": [
    "# Get user input for the upper limit\n",
    "upper_limit = int(input(\"Enter a number to sum up to: \"))"
   ]
  },
  {
   "cell_type": "code",
   "execution_count": null,
   "id": "d44e784f",
   "metadata": {},
   "outputs": [],
   "source": [
    "current_number = 1\n",
    "total_sum = 0"
   ]
  },
  {
   "cell_type": "code",
   "execution_count": null,
   "id": "d74c94cc",
   "metadata": {
    "lines_to_next_cell": 2
   },
   "outputs": [],
   "source": [
    "while current_number <= upper_limit:\n",
    "    total_sum += current_number\n",
    "    current_number += 1"
   ]
  },
  {
   "cell_type": "code",
   "execution_count": null,
   "id": "9c0b3bec",
   "metadata": {},
   "outputs": [],
   "source": [
    "print(f\"The total sum of numbers from 1 to {upper_limit} is: {total_sum}\")"
   ]
  }
 ],
 "metadata": {
  "jupytext": {
   "cell_metadata_filter": "-all",
   "main_language": "python",
   "notebook_metadata_filter": "-all"
  }
 },
 "nbformat": 4,
 "nbformat_minor": 5
}
