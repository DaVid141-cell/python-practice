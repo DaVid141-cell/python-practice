{
 "cells": [
  {
   "cell_type": "markdown",
   "id": "c9e9b696",
   "metadata": {},
   "source": [
    "# Task 5: For Loop and Ternary Operator\n",
    "Write a program that prints whether each number in a range from 1 to 20 is even or odd."
   ]
  },
  {
   "cell_type": "markdown",
   "id": "47a87616",
   "metadata": {},
   "source": [
    "start_number = int(input(\"Enter the start number: \"))\n",
    "end_number = int(input(\"Enter the end number: \"))"
   ]
  },
  {
   "cell_type": "code",
   "execution_count": null,
   "id": "317cc984",
   "metadata": {},
   "outputs": [],
   "source": [
    "for number in range(1, 21):\n",
    "   \n",
    "    # Use a ternary operator to determine if the number is even or odd\n",
    "    result = \"even\" if number % 2 == 0 else \"odd\"\n",
    "    print(f\"The number {number} is {result}.\")"
   ]
  }
 ],
 "metadata": {
  "jupytext": {
   "cell_metadata_filter": "-all",
   "main_language": "python",
   "notebook_metadata_filter": "-all"
  },
  "language_info": {
   "name": "python"
  }
 },
 "nbformat": 4,
 "nbformat_minor": 5
}
