{
 "cells": [
  {
   "cell_type": "markdown",
   "id": "1c2a2561",
   "metadata": {},
   "source": [
    "# Task 3: Nested Conditionals\n",
    "Create a program that takes a number as input and categorizes it as positive, negative, or zero.\n",
    "If the number is positive, further check if it is even or odd."
   ]
  },
  {
   "cell_type": "code",
   "execution_count": null,
   "id": "a291e576",
   "metadata": {},
   "outputs": [],
   "source": [
    "number = int(input(\"Enter a Number:\"))\n",
    "# Check if the number is positive, negative, or zero\n",
    "if number > 0:\n",
    "    print(\"The number is positive.\")\n",
    "    # Check if the positive number is even or odd\n",
    "    if number % 2 == 0:\n",
    "        print(\"The number is even.\")\n",
    "    else:\n",
    "        print(\"The number is odd.\")\n",
    "elif number < 0:\n",
    "    print(\"The number is negative.\")\n",
    "elif number == 0:\n",
    "    print(\"The number is zero.\")\n",
    "# Display the type of the input number\n",
    "print(f\"\\nThe type of the input number is: {number} {type(number)}\")"
   ]
  }
 ],
 "metadata": {
  "jupytext": {
   "cell_metadata_filter": "-all",
   "main_language": "python",
   "notebook_metadata_filter": "-all"
  }
 },
 "nbformat": 4,
 "nbformat_minor": 5
}
