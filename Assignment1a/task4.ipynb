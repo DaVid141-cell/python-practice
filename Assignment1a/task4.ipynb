{
 "cells": [
  {
   "cell_type": "markdown",
   "id": "587e5508",
   "metadata": {},
   "source": [
    "# Task 4: While True Loop with Boolean Comparisons\n",
    "Write a program that asks for a password and keeps asking until the correct password is entered.\n",
    "Also, limit the number of attempts to 3."
   ]
  },
  {
   "cell_type": "code",
   "execution_count": null,
   "id": "ba570c79",
   "metadata": {},
   "outputs": [],
   "source": [
    "create_password = input(\"Create your own password:\")\n",
    "attempts = 3"
   ]
  },
  {
   "cell_type": "code",
   "execution_count": null,
   "id": "ba038836",
   "metadata": {},
   "outputs": [],
   "source": [
    "print(\"Password is been saved!\")"
   ]
  },
  {
   "cell_type": "code",
   "execution_count": null,
   "id": "600c35ac",
   "metadata": {},
   "outputs": [],
   "source": [
    "while attempts > 0:\n",
    "    password = input(\"\\nEnter the password: \")\n",
    "    if password == create_password:\n",
    "        print(\"\\nAccess granted!\")\n",
    "        break\n",
    "    else:\n",
    "        attempts -= 1\n",
    "        print(f\"Incorrect password. You have {attempts} attempts left.\")\n",
    "        if attempts == 0:\n",
    "            print(\"Access denied. No attempts left.\")"
   ]
  }
 ],
 "metadata": {
  "jupytext": {
   "cell_metadata_filter": "-all",
   "main_language": "python",
   "notebook_metadata_filter": "-all"
  }
 },
 "nbformat": 4,
 "nbformat_minor": 5
}
