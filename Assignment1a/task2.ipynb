{
 "cells": [
  {
   "cell_type": "markdown",
   "id": "1b6143a1",
   "metadata": {},
   "source": [
    "# Task 2: If Comparison and String Comparison\n",
    "Write a program that asks for a user's favorite color and a number.\n",
    "If the color is \"Blue\" and the number is greater than 10, print \"Great choice!\" otherwise, print \"Nice selection!\""
   ]
  },
  {
   "cell_type": "code",
   "execution_count": null,
   "id": "ce1e31f2",
   "metadata": {},
   "outputs": [],
   "source": [
    "# Get user input for favorite color and number\n",
    "favorite_color = input(\"Input your Favorite Color:\")\n",
    "number = input(\"Input your Favorite Number:\")"
   ]
  },
  {
   "cell_type": "code",
   "execution_count": null,
   "id": "930b8352",
   "metadata": {},
   "outputs": [],
   "source": [
    "# Convert number to integer\n",
    "number = int(number)"
   ]
  },
  {
   "cell_type": "code",
   "execution_count": null,
   "id": "f9e36c4c",
   "metadata": {},
   "outputs": [],
   "source": [
    "# Check conditions and print appropriate messages\n",
    "if favorite_color.lower() == \"Blue\" and number > 10:\n",
    "    print(\"Great choice!\")\n",
    "else:\n",
    "    print(\"Nice selection!\")"
   ]
  },
  {
   "cell_type": "code",
   "execution_count": null,
   "id": "289f3c53",
   "metadata": {
    "lines_to_next_cell": 2
   },
   "outputs": [],
   "source": []
  }
 ],
 "metadata": {
  "jupytext": {
   "cell_metadata_filter": "-all",
   "main_language": "python",
   "notebook_metadata_filter": "-all"
  }
 },
 "nbformat": 4,
 "nbformat_minor": 5
}
