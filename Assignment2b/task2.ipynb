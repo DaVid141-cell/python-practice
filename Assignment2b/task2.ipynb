{
 "cells": [
  {
   "cell_type": "code",
   "execution_count": null,
   "id": "d8a4ff98",
   "metadata": {
    "lines_to_next_cell": 0
   },
   "outputs": [],
   "source": []
  },
  {
   "cell_type": "markdown",
   "id": "1ac45df9",
   "metadata": {},
   "source": [
    "Task 2: Manipulating Lists\n",
    "Add \"Swift\" and \"Go\" to the list and remove \"Ruby\"."
   ]
  },
  {
   "cell_type": "code",
   "execution_count": null,
   "id": "01e8c749",
   "metadata": {},
   "outputs": [],
   "source": [
    "array = [\"java\", \"php\", \"python\", \"c++\", \"ruby\"]"
   ]
  },
  {
   "cell_type": "code",
   "execution_count": null,
   "id": "6099c4b2",
   "metadata": {},
   "outputs": [],
   "source": [
    "array.append(\"swift\")\n",
    "array.append(\"go\")"
   ]
  },
  {
   "cell_type": "code",
   "execution_count": null,
   "id": "e38c777f",
   "metadata": {},
   "outputs": [],
   "source": [
    "array.remove(\"ruby\")"
   ]
  },
  {
   "cell_type": "code",
   "execution_count": null,
   "id": "e65a384e",
   "metadata": {},
   "outputs": [],
   "source": [
    "print(array)"
   ]
  }
 ],
 "metadata": {
  "jupytext": {
   "cell_metadata_filter": "-all",
   "main_language": "python",
   "notebook_metadata_filter": "-all"
  }
 },
 "nbformat": 4,
 "nbformat_minor": 5
}
