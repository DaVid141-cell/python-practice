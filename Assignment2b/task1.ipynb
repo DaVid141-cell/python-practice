{
 "cells": [
  {
   "cell_type": "code",
   "execution_count": null,
   "id": "1f8ef58c",
   "metadata": {},
   "outputs": [],
   "source": [
    "import numpy as np"
   ]
  },
  {
   "cell_type": "markdown",
   "id": "578316ef",
   "metadata": {},
   "source": [
    "Task 1: Creating and Subsetting Lists\n",
    "Create a list of five programming languages.\n",
    "Print the first, third, and last elements of the list."
   ]
  },
  {
   "cell_type": "code",
   "execution_count": null,
   "id": "79829b68",
   "metadata": {},
   "outputs": [],
   "source": [
    "array = np.array([\"java\", \"php\", \"python\", \"c++\", \"ruby\"])"
   ]
  },
  {
   "cell_type": "code",
   "execution_count": null,
   "id": "80f1c28b",
   "metadata": {},
   "outputs": [],
   "source": [
    "elements = array[[0, 2, 4]]"
   ]
  },
  {
   "cell_type": "code",
   "execution_count": null,
   "id": "6c18170d",
   "metadata": {},
   "outputs": [],
   "source": [
    "print(elements)"
   ]
  }
 ],
 "metadata": {
  "jupytext": {
   "cell_metadata_filter": "-all",
   "main_language": "python",
   "notebook_metadata_filter": "-all"
  }
 },
 "nbformat": 4,
 "nbformat_minor": 5
}
