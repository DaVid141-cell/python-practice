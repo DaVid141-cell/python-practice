{
 "cells": [
  {
   "cell_type": "markdown",
   "id": "e70bec1e",
   "metadata": {},
   "source": [
    "Task 6: List Comprehension\n",
    "Create a list of square numbers for values from 1 to 10 using list comprehension."
   ]
  },
  {
   "cell_type": "code",
   "execution_count": null,
   "id": "80992c0b",
   "metadata": {},
   "outputs": [],
   "source": [
    "square = [number ** 2 for number in range(1,11)]\n",
    "print(square)"
   ]
  }
 ],
 "metadata": {
  "jupytext": {
   "cell_metadata_filter": "-all",
   "main_language": "python",
   "notebook_metadata_filter": "-all"
  }
 },
 "nbformat": 4,
 "nbformat_minor": 5
}
