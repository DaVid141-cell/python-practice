{
 "cells": [
  {
   "cell_type": "markdown",
   "id": "aac7646d",
   "metadata": {},
   "source": [
    "Task 3: Looping Through a List\n",
    "Write a program that prints each element in the list with its index and length of the name."
   ]
  },
  {
   "cell_type": "code",
   "execution_count": null,
   "id": "60bfb0c4",
   "metadata": {},
   "outputs": [],
   "source": [
    "array = [\"java\", \"php\", \"python\", \"c++\", \"ruby\"]"
   ]
  },
  {
   "cell_type": "code",
   "execution_count": null,
   "id": "9e43d3d0",
   "metadata": {},
   "outputs": [],
   "source": [
    "for index, lang in enumerate(array):\n",
    "    print(f\"index:{index}, array: {lang}, length:{len(lang)} \")"
   ]
  },
  {
   "cell_type": "markdown",
   "id": "561517f1",
   "metadata": {
    "lines_to_next_cell": 2
   },
   "source": [
    "enumerate(array) to index and lang gives the value of each item in the list\n",
    "len(lang) will identify the length of each word in the list"
   ]
  }
 ],
 "metadata": {
  "jupytext": {
   "cell_metadata_filter": "-all",
   "main_language": "python",
   "notebook_metadata_filter": "-all"
  }
 },
 "nbformat": 4,
 "nbformat_minor": 5
}
