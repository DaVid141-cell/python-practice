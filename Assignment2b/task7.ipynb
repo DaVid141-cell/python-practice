{
 "cells": [
  {
   "cell_type": "markdown",
   "id": "1d91ae5c",
   "metadata": {},
   "source": [
    "Task 7: Removing Duplicates from a List\n",
    "Given a list of numbers with duplicates, remove duplicates and print the unique values."
   ]
  },
  {
   "cell_type": "code",
   "execution_count": null,
   "id": "ccccfd20",
   "metadata": {},
   "outputs": [],
   "source": [
    "numbers = [1, 1, 2, 2, 2, 3, 3, 4, 5, 5,]"
   ]
  },
  {
   "cell_type": "code",
   "execution_count": null,
   "id": "3fdb1567",
   "metadata": {},
   "outputs": [],
   "source": [
    "unique_numbers = list(set(numbers))"
   ]
  },
  {
   "cell_type": "code",
   "execution_count": null,
   "id": "49c9714c",
   "metadata": {},
   "outputs": [],
   "source": [
    "print(unique_numbers)"
   ]
  }
 ],
 "metadata": {
  "jupytext": {
   "cell_metadata_filter": "-all",
   "main_language": "python",
   "notebook_metadata_filter": "-all"
  }
 },
 "nbformat": 4,
 "nbformat_minor": 5
}
