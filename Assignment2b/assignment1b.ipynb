{
 "cells": [
  {
   "cell_type": "markdown",
   "id": "cc2cd2aa",
   "metadata": {},
   "source": [
    "Task 1: Creating and Subsetting Lists\n",
    "Create a list of five programming languages.\n",
    "Print the first, third, and last elements of the list."
   ]
  },
  {
   "cell_type": "code",
   "execution_count": 1,
   "id": "d0a66cfb",
   "metadata": {},
   "outputs": [],
   "source": [
    "import numpy as np\n",
    "array = np.array([\"java\", \"php\", \"python\", \"c++\", \"ruby\"])\n",
    "\n",
    "elements = array[[0, 2, 4]]"
   ]
  },
  {
   "cell_type": "code",
   "execution_count": 2,
   "id": "04ceb0a9",
   "metadata": {},
   "outputs": [
    {
     "name": "stdout",
     "output_type": "stream",
     "text": [
      "['java' 'python' 'ruby']\n"
     ]
    }
   ],
   "source": [
    "print(elements)"
   ]
  },
  {
   "cell_type": "markdown",
   "id": "15785930",
   "metadata": {},
   "source": [
    "Task 2: Manipulating Lists\n",
    "Add \"Swift\" and \"Go\" to the list and remove \"Ruby\"."
   ]
  },
  {
   "cell_type": "code",
   "execution_count": 3,
   "id": "0ce71b1c",
   "metadata": {},
   "outputs": [],
   "source": [
    "array = [\"java\", \"php\", \"python\", \"c++\", \"ruby\"]"
   ]
  },
  {
   "cell_type": "code",
   "execution_count": null,
   "id": "a50dfa39",
   "metadata": {},
   "outputs": [],
   "source": [
    "array.append(\"swift\")\n",
    "array.append(\"go\")\n",
    "array.remove(\"ruby\")"
   ]
  },
  {
   "cell_type": "code",
   "execution_count": 6,
   "id": "d1173839",
   "metadata": {},
   "outputs": [
    {
     "name": "stdout",
     "output_type": "stream",
     "text": [
      "['java', 'php', 'python', 'c++', 'swift', 'go']\n"
     ]
    }
   ],
   "source": [
    "print(array)"
   ]
  },
  {
   "cell_type": "markdown",
   "id": "d9f79d9b",
   "metadata": {},
   "source": [
    "Task 3: Looping Through a List\n",
    "Write a program that prints each element in the list with its index and length of the name."
   ]
  },
  {
   "cell_type": "markdown",
   "id": "8e283a1f",
   "metadata": {},
   "source": [
    "enumerate(array) to index and lang gives the value of each item in the list\n",
    "len(lang) will identify the length of each word in the list"
   ]
  },
  {
   "cell_type": "code",
   "execution_count": 7,
   "id": "a2858aa8",
   "metadata": {},
   "outputs": [],
   "source": [
    "array = [\"java\", \"php\", \"python\", \"c++\", \"ruby\"]"
   ]
  },
  {
   "cell_type": "code",
   "execution_count": 8,
   "id": "15c4a3af",
   "metadata": {
    "lines_to_next_cell": 2
   },
   "outputs": [
    {
     "name": "stdout",
     "output_type": "stream",
     "text": [
      "index:0, array: java, length:4 \n",
      "index:1, array: php, length:3 \n",
      "index:2, array: python, length:6 \n",
      "index:3, array: c++, length:3 \n",
      "index:4, array: ruby, length:4 \n"
     ]
    }
   ],
   "source": [
    "for index, lang in enumerate(array):\n",
    "    print(f\"index:{index}, array: {lang}, length:{len(lang)} \")"
   ]
  },
  {
   "cell_type": "markdown",
   "id": "203d1007",
   "metadata": {},
   "source": [
    "Task 4: Checking Membership\n",
    "Ask the user to enter a language name and check if it exists in the list.\n",
    "If found, display its index, else print a message that it is not found."
   ]
  },
  {
   "cell_type": "code",
   "execution_count": null,
   "id": "ed4e045a",
   "metadata": {},
   "outputs": [],
   "source": [
    "array = [\"java\", \"php\", \"python\", \"c++\", \"ruby\"]\n",
    "language = input(\"Enter a Programing language: \")"
   ]
  },
  {
   "cell_type": "code",
   "execution_count": 11,
   "id": "adfe75b7",
   "metadata": {
    "lines_to_next_cell": 2
   },
   "outputs": [
    {
     "name": "stdout",
     "output_type": "stream",
     "text": [
      "4\n"
     ]
    }
   ],
   "source": [
    "if language.lower() in array:\n",
    "    print(array.index(language.lower()))\n",
    "else:\n",
    "    print(\"Language not found!\")"
   ]
  },
  {
   "cell_type": "markdown",
   "id": "8e373c0f",
   "metadata": {},
   "source": [
    "Task 5: Sorting and Reversing a List\n",
    "Sort the list in alphabetical order and then reverse it."
   ]
  },
  {
   "cell_type": "code",
   "execution_count": 12,
   "id": "a235147e",
   "metadata": {},
   "outputs": [],
   "source": [
    "array = [\"java\", \"php\", \"python\", \"c++\", \"ruby\"]"
   ]
  },
  {
   "cell_type": "code",
   "execution_count": 13,
   "id": "6ac133ea",
   "metadata": {},
   "outputs": [],
   "source": [
    "array.sort()\n",
    "#['c++', 'java', 'php', 'python', 'ruby']\n",
    "array.reverse()\n",
    "#['ruby', 'python', 'php', 'java', 'c++']"
   ]
  },
  {
   "cell_type": "code",
   "execution_count": null,
   "id": "c350f5fa",
   "metadata": {},
   "outputs": [
    {
     "name": "stdout",
     "output_type": "stream",
     "text": [
      "None None\n"
     ]
    }
   ],
   "source": [
    "print(array)"
   ]
  },
  {
   "cell_type": "markdown",
   "id": "0c53ada7",
   "metadata": {},
   "source": [
    "Task 6: List Comprehension\n",
    "Create a list of square numbers for values from 1 to 10 using list comprehension."
   ]
  },
  {
   "cell_type": "code",
   "execution_count": 10,
   "id": "abd7689e",
   "metadata": {
    "lines_to_next_cell": 2
   },
   "outputs": [
    {
     "name": "stdout",
     "output_type": "stream",
     "text": [
      "[1, 4, 9, 16, 25, 36, 49, 64, 81, 100, 121, 144, 169, 196, 225, 256, 289, 324, 361, 400, 441, 484, 529, 576, 625, 676, 729, 784, 841, 900, 961, 1024, 1089, 1156, 1225, 1296, 1369, 1444, 1521, 1600, 1681, 1764, 1849, 1936, 2025, 2116, 2209, 2304, 2401]\n"
     ]
    }
   ],
   "source": [
    "square = [number ** 2 for number in range(1,50)]\n",
    "print(square)"
   ]
  },
  {
   "cell_type": "markdown",
   "id": "d8b8aa20",
   "metadata": {},
   "source": [
    "Task 7: Removing Duplicates from a List\n",
    "Given a list of numbers with duplicates, remove duplicates and print the unique values."
   ]
  },
  {
   "cell_type": "code",
   "execution_count": null,
   "id": "9c9039a3",
   "metadata": {},
   "outputs": [],
   "source": [
    "numbers = [1, 1, 2, 2, 2, 3, 3, 4, 5, 5,]\n",
    "\n",
    "unique_numbers = list(set(numbers))"
   ]
  },
  {
   "cell_type": "code",
   "execution_count": 20,
   "id": "e65c4a79",
   "metadata": {},
   "outputs": [
    {
     "name": "stdout",
     "output_type": "stream",
     "text": [
      "[1, 2, 3, 4, 5]\n"
     ]
    }
   ],
   "source": [
    "print(unique_numbers)"
   ]
  }
 ],
 "metadata": {
  "jupytext": {
   "cell_metadata_filter": "-all",
   "main_language": "python",
   "notebook_metadata_filter": "-all"
  },
  "kernelspec": {
   "display_name": "Python 3",
   "language": "python",
   "name": "python3"
  },
  "language_info": {
   "codemirror_mode": {
    "name": "ipython",
    "version": 3
   },
   "file_extension": ".py",
   "mimetype": "text/x-python",
   "name": "python",
   "nbconvert_exporter": "python",
   "pygments_lexer": "ipython3",
   "version": "3.13.5"
  }
 },
 "nbformat": 4,
 "nbformat_minor": 5
}
