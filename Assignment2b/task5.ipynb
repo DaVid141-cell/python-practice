{
 "cells": [
  {
   "cell_type": "markdown",
   "id": "72b597c8",
   "metadata": {},
   "source": [
    "Task 5: Sorting and Reversing a List\n",
    "Sort the list in alphabetical order and then reverse it."
   ]
  },
  {
   "cell_type": "code",
   "execution_count": null,
   "id": "cefd64c0",
   "metadata": {},
   "outputs": [],
   "source": [
    "array = [\"java\", \"php\", \"python\", \"c++\", \"ruby\"]"
   ]
  },
  {
   "cell_type": "code",
   "execution_count": null,
   "id": "f9d39a2e",
   "metadata": {},
   "outputs": [],
   "source": [
    "array.sort()\n",
    "#['c++', 'java', 'php', 'python', 'ruby']\n",
    "array.reverse()\n",
    "#['ruby', 'python', 'php', 'java', 'c++']"
   ]
  },
  {
   "cell_type": "code",
   "execution_count": null,
   "id": "8e13a3b0",
   "metadata": {},
   "outputs": [],
   "source": [
    "print(array)"
   ]
  }
 ],
 "metadata": {
  "jupytext": {
   "cell_metadata_filter": "-all",
   "main_language": "python",
   "notebook_metadata_filter": "-all"
  }
 },
 "nbformat": 4,
 "nbformat_minor": 5
}
