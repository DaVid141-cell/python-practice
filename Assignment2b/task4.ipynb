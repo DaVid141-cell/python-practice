{
 "cells": [
  {
   "cell_type": "markdown",
   "id": "36f09989",
   "metadata": {},
   "source": [
    "Task 4: Checking Membership\n",
    "Ask the user to enter a language name and check if it exists in the list.\n",
    "If found, display its index, else print a message that it is not found."
   ]
  },
  {
   "cell_type": "code",
   "execution_count": null,
   "id": "9f82dd3a",
   "metadata": {},
   "outputs": [],
   "source": [
    "array = [\"java\", \"php\", \"python\", \"c++\", \"ruby\"]"
   ]
  },
  {
   "cell_type": "code",
   "execution_count": null,
   "id": "b5145491",
   "metadata": {},
   "outputs": [],
   "source": [
    "language = input(\"Enter a Programing language: \")"
   ]
  },
  {
   "cell_type": "code",
   "execution_count": null,
   "id": "8c830d41",
   "metadata": {
    "lines_to_next_cell": 2
   },
   "outputs": [],
   "source": [
    "if language.lower() in array:\n",
    "    print(array.index(language.lower()))\n",
    "else:\n",
    "    print(\"Language not found!\")"
   ]
  }
 ],
 "metadata": {
  "jupytext": {
   "cell_metadata_filter": "-all",
   "main_language": "python",
   "notebook_metadata_filter": "-all"
  }
 },
 "nbformat": 4,
 "nbformat_minor": 5
}
