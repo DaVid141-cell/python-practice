{
 "cells": [
  {
   "cell_type": "markdown",
   "id": "166e9be5",
   "metadata": {},
   "source": [
    "# Task 1: Loading the Data:"
   ]
  },
  {
   "cell_type": "code",
   "execution_count": null,
   "id": "c50dff0e",
   "metadata": {},
   "outputs": [],
   "source": [
    "import pandas as pd"
   ]
  },
  {
   "cell_type": "code",
   "execution_count": null,
   "id": "f947cab6",
   "metadata": {},
   "outputs": [],
   "source": [
    "# Dataset: Titanic Dataset\n",
    "titanic = pd.read_csv(\"asset-v1_EDUCLaaS+PYD+PDDS-PYD-0824-27Nov2024+type@asset+block@titanic.csv\")\n",
    "# Load the Titanic dataset into a Pandas DataFrame. \n",
    "df = pd.DataFrame(titanic)\n",
    "print(df)"
   ]
  },
  {
   "cell_type": "markdown",
   "id": "3dfcf990",
   "metadata": {},
   "source": [
    "## Task 2: Initial Exploration:"
   ]
  },
  {
   "cell_type": "code",
   "execution_count": null,
   "id": "f8e27cbf",
   "metadata": {},
   "outputs": [],
   "source": [
    "import pandas as pd"
   ]
  },
  {
   "cell_type": "code",
   "execution_count": null,
   "id": "59979799",
   "metadata": {},
   "outputs": [],
   "source": [
    "# Titanic Dataset loads\n",
    "titanic = pd.read_csv(\"asset-v1_EDUCLaaS+PYD+PDDS-PYD-0824-27Nov2024+type@asset+block@titanic.csv\")\n",
    "# Display the first 5 rows of the dataset to get an overview.\n",
    "df = pd.DataFrame(titanic)\n",
    "print(df.head(5))"
   ]
  },
  {
   "cell_type": "code",
   "execution_count": null,
   "id": "7d9e9d11",
   "metadata": {},
   "outputs": [],
   "source": [
    "# Provide basic information about the dataset using the info() method.\n",
    "print()\n",
    "# Display detailed info about the dataset including column names, non-null counts, and data types\n",
    "print(df.info(verbose=True))\n",
    "print()\n",
    "# Display only a summary with column count and dtypes, without showing all column details\n",
    "print(df.info(verbose=False))"
   ]
  },
  {
   "cell_type": "markdown",
   "id": "c1bfb980",
   "metadata": {},
   "source": [
    "# Task 3: Handling Missing Values:"
   ]
  },
  {
   "cell_type": "code",
   "execution_count": null,
   "id": "bc832003",
   "metadata": {},
   "outputs": [],
   "source": [
    "import pandas as pd"
   ]
  },
  {
   "cell_type": "code",
   "execution_count": null,
   "id": "089c652b",
   "metadata": {},
   "outputs": [],
   "source": [
    "# Titanic Dataset\n",
    "titanic = pd.read_csv(\"asset-v1_EDUCLaaS+PYD+PDDS-PYD-0824-27Nov2024+type@asset+block@titanic.csv\")"
   ]
  },
  {
   "cell_type": "code",
   "execution_count": null,
   "id": "06e5bc07",
   "metadata": {
    "lines_to_next_cell": 1
   },
   "outputs": [],
   "source": [
    "df = pd.DataFrame(titanic)\n",
    "# Identify and count the number of missing values in each column.\n",
    "# isna() will show the messing values by true or false with the .sum() it will only show the numbers of missing value.\n",
    "titanic_missing_value = df.isna().sum()\n",
    "print(titanic_missing_value)"
   ]
  },
  {
   "cell_type": "code",
   "execution_count": null,
   "id": "0d8718da",
   "metadata": {
    "lines_to_next_cell": 1
   },
   "outputs": [],
   "source": [
    "# Decide on an appropriate strategy for handling missing values in at least two columns and implement it.\n",
    "# Function to handle missing values\n",
    "def handle_missing(column_name):\n",
    "    # Show rows with missing values in the chosen column\n",
    "    selected_columns = df[df[column_name].isna()][[column_name, \"Name\"]]\n",
    "    \n",
    "    # Show before filling\n",
    "    print(\"\\nMissing values in column before filling:\")\n",
    "    print(selected_columns.head(20))  \n",
    "\n",
    "    # Ask for replacement\n",
    "    missing_value = input(f\"Enter a value to replace missing data in '{column_name}': \")\n",
    "\n",
    "    # Fill missing values with the user-provided value\n",
    "    df[column_name] = df[column_name].fillna(missing_value)\n",
    "\n",
    "    # Show after filling\n",
    "    print(\"\\nAfter filling missing values:\")\n",
    "    print(df.loc[selected_columns.index, [column_name, \"Name\"]].head(20))"
   ]
  },
  {
   "cell_type": "code",
   "execution_count": null,
   "id": "65e63866",
   "metadata": {},
   "outputs": [],
   "source": [
    "# User input\n",
    "column_name = input(\"\\nSelect a column to check: \")\n",
    "# Call the function\n",
    "handle_missing(column_name)"
   ]
  },
  {
   "cell_type": "markdown",
   "id": "3f3a276b",
   "metadata": {},
   "source": [
    "# Task 4: Descriptive Statistics:"
   ]
  },
  {
   "cell_type": "code",
   "execution_count": null,
   "id": "892fa9a0",
   "metadata": {},
   "outputs": [],
   "source": [
    "import pandas as pd"
   ]
  },
  {
   "cell_type": "code",
   "execution_count": null,
   "id": "9d2a95f3",
   "metadata": {},
   "outputs": [],
   "source": [
    "# Titanic Dataset\n",
    "titanic = pd.read_csv(\"asset-v1_EDUCLaaS+PYD+PDDS-PYD-0824-27Nov2024+type@asset+block@titanic.csv\")\n",
    "df = pd.DataFrame(titanic)"
   ]
  },
  {
   "cell_type": "code",
   "execution_count": null,
   "id": "22196e3a",
   "metadata": {},
   "outputs": [],
   "source": [
    "# Generate descriptive statistics for the numerical columns using the describe() method.\n",
    "print(df.describe())"
   ]
  },
  {
   "cell_type": "markdown",
   "id": "8a7cdaa9",
   "metadata": {},
   "source": [
    "# Task 5: Unique Values:"
   ]
  },
  {
   "cell_type": "code",
   "execution_count": null,
   "id": "03178928",
   "metadata": {},
   "outputs": [],
   "source": [
    "import pandas as pd"
   ]
  },
  {
   "cell_type": "code",
   "execution_count": null,
   "id": "e44168f5",
   "metadata": {},
   "outputs": [],
   "source": [
    "# Titanic Dataset and Dataframe load out\n",
    "titanic = pd.read_csv(\"asset-v1_EDUCLaaS+PYD+PDDS-PYD-0824-27Nov2024+type@asset+block@titanic.csv\")\n",
    "df = pd.DataFrame(titanic)"
   ]
  },
  {
   "cell_type": "code",
   "execution_count": null,
   "id": "0c5d5a60",
   "metadata": {},
   "outputs": [],
   "source": [
    "# List unique values in the 'Pclass' column.\n",
    "print(\"Unique Values of the Pclass:\")\n",
    "print(df['Pclass'].unique())\n",
    "# Count the occurrences of each unique value in the 'Embarked' column.\n",
    "print(\"\\nUnique Values counts of each Embarked:\")\n",
    "print(df['Embarked'].value_counts())"
   ]
  },
  {
   "cell_type": "markdown",
   "id": "e593d813",
   "metadata": {},
   "source": [
    "# Task 6: Data Manipulation:"
   ]
  },
  {
   "cell_type": "code",
   "execution_count": null,
   "id": "bc97aa1e",
   "metadata": {},
   "outputs": [],
   "source": [
    "import pandas as pd"
   ]
  },
  {
   "cell_type": "code",
   "execution_count": null,
   "id": "20a49964",
   "metadata": {},
   "outputs": [],
   "source": [
    "# Titanic Dataset and dataframe load out\n",
    "titanic = pd.read_csv(\"asset-v1_EDUCLaaS+PYD+PDDS-PYD-0824-27Nov2024+type@asset+block@titanic.csv\")\n",
    "df = pd.DataFrame(titanic)"
   ]
  },
  {
   "cell_type": "code",
   "execution_count": null,
   "id": "07c69ebe",
   "metadata": {},
   "outputs": [],
   "source": [
    "# Create a new column named 'FamilySize' that represents the sum of 'SibSp' and 'Parch'.\n",
    "df['FamilySize'] = df['SibSp'] + df['Parch']\n",
    "print(\"New Dataframe column: \")\n",
    "print(df)"
   ]
  },
  {
   "cell_type": "code",
   "execution_count": null,
   "id": "c4506a3d",
   "metadata": {},
   "outputs": [],
   "source": [
    "# Drop the 'Cabin' column from the dataset.\n",
    "df = df.drop(columns='Cabin')\n",
    "print(\"\\nDrop column: \")\n",
    "print(df)"
   ]
  },
  {
   "cell_type": "code",
   "execution_count": null,
   "id": "01ebf35e",
   "metadata": {},
   "outputs": [],
   "source": [
    "## Task 7: Filtering and Sorting:\n",
    "import pandas as pd"
   ]
  },
  {
   "cell_type": "code",
   "execution_count": null,
   "id": "ff6cfa8c",
   "metadata": {},
   "outputs": [],
   "source": [
    "# Titanic Dataset and dataframe load out\n",
    "titanic = pd.read_csv(\"asset-v1_EDUCLaaS+PYD+PDDS-PYD-0824-27Nov2024+type@asset+block@titanic.csv\")\n",
    "df = pd.DataFrame(titanic)"
   ]
  },
  {
   "cell_type": "code",
   "execution_count": null,
   "id": "302010ec",
   "metadata": {},
   "outputs": [],
   "source": [
    "# Create a new DataFrame containing only passengers with an age greater than 30.\n",
    "df['filter_age'] = df['Age'].where(df['Age'] > 30)\n",
    "# Drop rows where 'filter_age' is NaN\n",
    "filtered_df = df.dropna(subset=['filter_age'])\n",
    "print(filtered_df.head())"
   ]
  },
  {
   "cell_type": "code",
   "execution_count": null,
   "id": "d1e9ec25",
   "metadata": {},
   "outputs": [],
   "source": [
    "# Sort the DataFrame by 'Fare' in descending order.\n",
    "df = df.sort_values(by='Fare', ascending=False)\n",
    "print(\"\\nSorted Dataframe 'Fare': \")\n",
    "print(df)"
   ]
  },
  {
   "cell_type": "markdown",
   "id": "92d04bf5",
   "metadata": {},
   "source": [
    "## Task 8: Data Analysis:"
   ]
  },
  {
   "cell_type": "code",
   "execution_count": null,
   "id": "0c1e9b2e",
   "metadata": {},
   "outputs": [],
   "source": [
    "\n",
    "import pandas as pd\n",
    "import matplotlib.pyplot as plt"
   ]
  },
  {
   "cell_type": "code",
   "execution_count": null,
   "id": "991d6e1f",
   "metadata": {},
   "outputs": [],
   "source": [
    "# Titanic Dataset and dataframe load out\n",
    "titanic = pd.read_csv(\"asset-v1_EDUCLaaS+PYD+PDDS-PYD-0824-27Nov2024+type@asset+block@titanic.csv\")\n",
    "df = pd.DataFrame(titanic)"
   ]
  },
  {
   "cell_type": "code",
   "execution_count": null,
   "id": "6d2045b1",
   "metadata": {},
   "outputs": [],
   "source": [
    "# Calculate the survival rate for different passenger classes ('Pclass').\n",
    "print(\"Percentage of the survival rate in Pclass: \")\n",
    "survival_rate = df.groupby('Pclass')['Survived'].mean() * 100\n",
    "print(survival_rate) # with * 100 this will return the survival rate as a percentage instead of a decimal  "
   ]
  },
  {
   "cell_type": "code",
   "execution_count": null,
   "id": "d181d636",
   "metadata": {},
   "outputs": [],
   "source": [
    "# Identify and display the passenger with the highest 'Fare'.\n",
    "print(\"\\nPassenger with the highest Fare: \")\n",
    "print(df.loc[df['Fare'].idxmax()])"
   ]
  },
  {
   "cell_type": "code",
   "execution_count": null,
   "id": "0891d98f",
   "metadata": {},
   "outputs": [],
   "source": [
    "# Plot as a bar chart (better for categorical comparison)\n",
    "survival_rate.plot(kind='barh', color='skyblue', edgecolor='black')\n",
    "plt.title(\"Survival Rate by Passenger Class\", fontweight='bold')\n",
    "plt.ylabel(\"Passenger Class\")\n",
    "plt.xlabel(\"Survival Rate (%)\")\n",
    "plt.show()"
   ]
  },
  {
   "cell_type": "markdown",
   "id": "eb515289",
   "metadata": {},
   "source": [
    "# Conclusion:\n",
    "Throughout these tasks, I learned step by step how to work with data using Python and pandas. At first, I was only practicing basic things like creating DataFrames, checking data types, and describing datasets, but later I got more confident in filtering, sorting, and grouping data. I also learned how to calculate meaningful insights, like survival rates, and how to identify important details such as the passenger who paid the highest fare. Using matplotlib helped me visualize the results, which made the analysis clearer and more interesting. Overall, this experience taught me not only the technical skills of data analysis but also how to think critically and interpret the results in a meaningful way."
   ]
  }
 ],
 "metadata": {
  "jupytext": {
   "cell_metadata_filter": "-all",
   "main_language": "python",
   "notebook_metadata_filter": "-all"
  },
  "language_info": {
   "name": "python"
  }
 },
 "nbformat": 4,
 "nbformat_minor": 5
}
