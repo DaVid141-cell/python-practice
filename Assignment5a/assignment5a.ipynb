{
 "cells": [
  {
   "cell_type": "markdown",
   "id": "3aa8d6c4",
   "metadata": {},
   "source": [
    "# Question 1: Create a Pandas Series called s with the following values: [1, 3, 5, np.nan, 6, 8]. Print the series."
   ]
  },
  {
   "cell_type": "code",
   "execution_count": 1,
   "id": "373cb946",
   "metadata": {},
   "outputs": [],
   "source": [
    "import numpy as np\n",
    "import pandas as pd"
   ]
  },
  {
   "cell_type": "code",
   "execution_count": 2,
   "id": "f04b8cb6",
   "metadata": {},
   "outputs": [],
   "source": [
    "# Create a Pandas Series with the specified values\n",
    "s = pd.Series([1, 3, 5, np.nan, 6, 8])"
   ]
  },
  {
   "cell_type": "code",
   "execution_count": 3,
   "id": "3b5b6c62",
   "metadata": {},
   "outputs": [
    {
     "name": "stdout",
     "output_type": "stream",
     "text": [
      "Series s:\n",
      "0    1.0\n",
      "1    3.0\n",
      "2    5.0\n",
      "3    NaN\n",
      "4    6.0\n",
      "5    8.0\n",
      "dtype: float64\n"
     ]
    }
   ],
   "source": [
    "# Print the series\n",
    "print(\"Series s:\")\n",
    "print(s)"
   ]
  },
  {
   "cell_type": "markdown",
   "id": "41a1d12e",
   "metadata": {},
   "source": [
    "# Question 2: Create a DataFrame called df with the following data:\n",
    "    Name  Age  Gender\n",
    "0   John   25    Male\n",
    "1   Mary   30  Female\n",
    "2  Peter   28    Male"
   ]
  },
  {
   "cell_type": "code",
   "execution_count": 4,
   "id": "f5c111a5",
   "metadata": {},
   "outputs": [],
   "source": [
    "import pandas as pd"
   ]
  },
  {
   "cell_type": "code",
   "execution_count": 5,
   "id": "35add692",
   "metadata": {},
   "outputs": [],
   "source": [
    "# Create a DataFrame with the specified data\n",
    "data = {\n",
    "        'Name': ['John', 'Mary', 'Peter'],\n",
    "        'Age': [25, 30, 28],\n",
    "        'Gender': ['Male', 'Female', 'Male']\n",
    "    }"
   ]
  },
  {
   "cell_type": "code",
   "execution_count": 6,
   "id": "f968affe",
   "metadata": {},
   "outputs": [
    {
     "name": "stdout",
     "output_type": "stream",
     "text": [
      "DataFrame df:\n",
      "    Name  Age  Gender\n",
      "0   John   25    Male\n",
      "1   Mary   30  Female\n",
      "2  Peter   28    Male\n"
     ]
    }
   ],
   "source": [
    "df = pd.DataFrame(data)\n",
    "print(\"DataFrame df:\")\n",
    "print(df)"
   ]
  },
  {
   "cell_type": "markdown",
   "id": "58b2d67c",
   "metadata": {},
   "source": [
    "#  Question 3: Check if the df DataFrame from the previous question contains any missing values. Print the result."
   ]
  },
  {
   "cell_type": "code",
   "execution_count": 7,
   "id": "cded3ca3",
   "metadata": {},
   "outputs": [],
   "source": [
    "import pandas as pd"
   ]
  },
  {
   "cell_type": "code",
   "execution_count": 8,
   "id": "624d39ca",
   "metadata": {},
   "outputs": [],
   "source": [
    "# Create a DataFrame with the specified data\n",
    "data = {\n",
    "        'Name': ['John', 'Mary', 'Peter'],\n",
    "        'Age': [25, 30, 28],\n",
    "        'Gender': ['Male', 'Female', 'Male']\n",
    "    }\n",
    "df = pd.DataFrame(data)"
   ]
  },
  {
   "cell_type": "code",
   "execution_count": 9,
   "id": "29eb9e0d",
   "metadata": {},
   "outputs": [
    {
     "name": "stdout",
     "output_type": "stream",
     "text": [
      "Does the DataFrame contain any missing values? False\n"
     ]
    }
   ],
   "source": [
    "# Check for missing values in the DataFrame\n",
    "missing_values = df.isnull().any().any()\n",
    "# Print the result\n",
    "print(\"Does the DataFrame contain any missing values?\", missing_values)"
   ]
  },
  {
   "cell_type": "markdown",
   "id": "bd0b8073",
   "metadata": {},
   "source": [
    "# Question 4: Merge the following two DataFrames, df1 and df2, on the 'ID' column:\n",
    "df1:\n",
    "   ID  Name\n",
    "0   1  John\n",
    "1   2  Mary\n",
    "df2:\n",
    "   ID  Age\n",
    "0   1   25\n",
    "1   2   30"
   ]
  },
  {
   "cell_type": "code",
   "execution_count": 10,
   "id": "ab7dd3a3",
   "metadata": {},
   "outputs": [],
   "source": [
    "import pandas as pd"
   ]
  },
  {
   "cell_type": "code",
   "execution_count": 11,
   "id": "24d313a1",
   "metadata": {},
   "outputs": [],
   "source": [
    "# Create the first DataFrame\n",
    "df1 = pd.DataFrame({\n",
    "    'ID': [1, 2],\n",
    "    'Name': ['John', 'Mary']\n",
    "})\n",
    "# Create the second DataFrame\n",
    "df2 = pd.DataFrame({\n",
    "    'ID': [1, 2],\n",
    "    'Age': [25, 30]\n",
    "})"
   ]
  },
  {
   "cell_type": "code",
   "execution_count": 12,
   "id": "3a27d7c5",
   "metadata": {},
   "outputs": [
    {
     "name": "stdout",
     "output_type": "stream",
     "text": [
      "Merged DataFrame:\n",
      "   ID  Name  Age\n",
      "0   1  John   25\n",
      "1   2  Mary   30\n"
     ]
    }
   ],
   "source": [
    "# Merge the two DataFrames on the 'ID' column\n",
    "merged_df = pd.merge(df1, df2, on='ID')\n",
    "# Print the merged DataFrame\n",
    "print(\"Merged DataFrame:\")\n",
    "print(merged_df)"
   ]
  },
  {
   "cell_type": "markdown",
   "id": "8f5d49ab",
   "metadata": {},
   "source": [
    "# Question 5: Concatenate the following two DataFrames, df3 and df4, vertically:\n",
    "df3:\n",
    "   ID  Name\n",
    "0   1  John\n",
    "1   2  Mary\n",
    "df4:\n",
    "   ID  Age\n",
    "0   3   28\n",
    "1   4   32"
   ]
  },
  {
   "cell_type": "code",
   "execution_count": 13,
   "id": "92a0c111",
   "metadata": {},
   "outputs": [],
   "source": [
    "import pandas as pd"
   ]
  },
  {
   "cell_type": "code",
   "execution_count": 14,
   "id": "ba3d445e",
   "metadata": {},
   "outputs": [],
   "source": [
    "df3 = pd.DataFrame({\n",
    "    'ID': [1, 2],\n",
    "    'Name': ['John', 'Mary']\n",
    "})  \n",
    "df4 = pd.DataFrame({\n",
    "    'ID': [3, 4],\n",
    "    'Age': [28, 32]\n",
    "})"
   ]
  },
  {
   "cell_type": "code",
   "execution_count": 15,
   "id": "3c8f81e1",
   "metadata": {},
   "outputs": [
    {
     "name": "stdout",
     "output_type": "stream",
     "text": [
      "Concatenated DataFrame:\n",
      "   ID  Name   Age\n",
      "0   1  John   NaN\n",
      "1   2  Mary   NaN\n",
      "2   3   NaN  28.0\n",
      "3   4   NaN  32.0\n"
     ]
    }
   ],
   "source": [
    "# Concatenate the two DataFrames vertically\n",
    "concatenated_df = pd.concat([df3, df4], ignore_index=True)\n",
    "# Print the concatenated DataFrame\n",
    "print(\"Concatenated DataFrame:\")\n",
    "print(concatenated_df)"
   ]
  },
  {
   "cell_type": "markdown",
   "id": "064c68b0",
   "metadata": {},
   "source": [
    "# Question 6: Create a DataFrame called df5 with the following data:\n",
    "   Name  Age\n",
    "0  John   25\n",
    "1  Mary   30\n",
    "2  Alan   35\n",
    "Set the 'Name' column as the index of the DataFrame. Print the DataFrame."
   ]
  },
  {
   "cell_type": "code",
   "execution_count": 16,
   "id": "2a50780d",
   "metadata": {},
   "outputs": [],
   "source": [
    "import pandas as pd"
   ]
  },
  {
   "cell_type": "code",
   "execution_count": 17,
   "id": "23002832",
   "metadata": {},
   "outputs": [],
   "source": [
    "df5 = pd.DataFrame({\n",
    "    'Name': ['John', 'Mary', 'Alan'],\n",
    "    'Age': [25, 30, 35]\n",
    "})"
   ]
  },
  {
   "cell_type": "code",
   "execution_count": 18,
   "id": "c7b2c009",
   "metadata": {},
   "outputs": [
    {
     "name": "stdout",
     "output_type": "stream",
     "text": [
      "DataFrame df5 with 'Name' as index:\n",
      "      Age\n",
      "Name     \n",
      "John   25\n",
      "Mary   30\n",
      "Alan   35\n"
     ]
    }
   ],
   "source": [
    "# Set the 'Name' column as the index of the DataFrame\n",
    "df5.set_index('Name', inplace=True)\n",
    "# Print the DataFrame\n",
    "print(\"DataFrame df5 with 'Name' as index:\")\n",
    "print(df5)"
   ]
  },
  {
   "cell_type": "markdown",
   "id": "7aac59bd",
   "metadata": {},
   "source": [
    "# Question 7: Concatenate the following two DataFrames, df6 and df7, horizontally:\n",
    "df6:\n",
    "  ID  Score\n",
    "0   1     85\n",
    "1   2     92\n",
    "df7:\n",
    "   ID  Grade\n",
    "0   1     A\n",
    "1   2     B\n",
    "Print the concatenated DataFrame"
   ]
  },
  {
   "cell_type": "code",
   "execution_count": 19,
   "id": "da4c4773",
   "metadata": {},
   "outputs": [],
   "source": [
    "import pandas as pd"
   ]
  },
  {
   "cell_type": "code",
   "execution_count": 20,
   "id": "7b8c9b19",
   "metadata": {},
   "outputs": [],
   "source": [
    "df6 = pd.DataFrame({\n",
    "    'ID': ['1', '2'],\n",
    "    'Score': ['85', 92] \n",
    "})\n",
    "df7 = pd.DataFrame({\n",
    "    'ID': ['1', '2'],\n",
    "    'Grade': ['A', 'B']\n",
    "})"
   ]
  },
  {
   "cell_type": "code",
   "execution_count": 21,
   "id": "58b97c5c",
   "metadata": {},
   "outputs": [
    {
     "name": "stdout",
     "output_type": "stream",
     "text": [
      "Concatenated DataFrame:\n",
      "  ID Score ID Grade\n",
      "0  1    85  1     A\n",
      "1  2    92  2     B\n"
     ]
    }
   ],
   "source": [
    "concat = pd.concat([df6, df7], axis=1 )\n",
    "print(\"Concatenated DataFrame:\")\n",
    "print(concat)"
   ]
  },
  {
   "cell_type": "markdown",
   "id": "effe9abe",
   "metadata": {},
   "source": [
    "# Question 8: Append the following DataFrame, df8, to the df9 DataFrame:\n",
    "df8:\n",
    "   ID  Name\n",
    "0   3  Alan\n",
    "1   4   Zoe\n",
    "df9:\n",
    "   ID   Name\n",
    "0   1   John\n",
    "1   2   Mary"
   ]
  },
  {
   "cell_type": "code",
   "execution_count": 22,
   "id": "b9d6b89e",
   "metadata": {},
   "outputs": [],
   "source": [
    "import pandas as pd"
   ]
  },
  {
   "cell_type": "code",
   "execution_count": 23,
   "id": "92f01673",
   "metadata": {},
   "outputs": [],
   "source": [
    "# Create the first DataFrame df8\n",
    "df8 = pd.DataFrame({\n",
    "    'ID': [3, 4],\n",
    "    'Name': ['Alan', 'Zoe']\n",
    "})\n",
    "# Create the second DataFrame df9\n",
    "df9 = pd.DataFrame({\n",
    "    'ID': [1, 2],\n",
    "    'Name': ['John', 'Mary']\n",
    "})"
   ]
  },
  {
   "cell_type": "code",
   "execution_count": 24,
   "id": "380fcd08",
   "metadata": {},
   "outputs": [
    {
     "name": "stdout",
     "output_type": "stream",
     "text": [
      "DataFrame df9 after appending df8:\n",
      "   ID  Name\n",
      "0   1  John\n",
      "1   2  Mary\n",
      "2   3  Alan\n",
      "3   4   Zoe\n"
     ]
    }
   ],
   "source": [
    "# Append df8 to df9 using pd.concat\n",
    "df9 = pd.concat([df9, df8], ignore_index=True)\n",
    "# Print the resulting DataFrame\n",
    "print(\"DataFrame df9 after appending df8:\")\n",
    "print(df9)"
   ]
  },
  {
   "cell_type": "markdown",
   "id": "ca4d7a77",
   "metadata": {},
   "source": [
    "# Question 9: Given the following DataFrame, df10:\n",
    "   Name  Age  Gender\n",
    "0  John   25    Male\n",
    "1  Mary   30  Female\n",
    "2  Alan   35    Male\n",
    "3  Zoe    28  Female\n",
    "4  Mark   32    Male\n",
    "Print the first three rows of the DataFrame."
   ]
  },
  {
   "cell_type": "code",
   "execution_count": 25,
   "id": "faae5e22",
   "metadata": {},
   "outputs": [],
   "source": [
    "import pandas as pd"
   ]
  },
  {
   "cell_type": "code",
   "execution_count": 26,
   "id": "da33e857",
   "metadata": {},
   "outputs": [],
   "source": [
    "# Create the DataFrame df10\n",
    "df10 = pd.DataFrame({\n",
    "    'Name': ['John', 'Mary', 'Alan', 'Zoe', 'Mark'],\n",
    "    'Age': [25, 30, 35, 28, 32],\n",
    "    'Gender': ['Male', 'Female','Male', 'Female','Male']\n",
    "})"
   ]
  },
  {
   "cell_type": "code",
   "execution_count": 27,
   "id": "96826add",
   "metadata": {},
   "outputs": [
    {
     "name": "stdout",
     "output_type": "stream",
     "text": [
      "First three rows of DataFrame df10:\n",
      "   Name  Age  Gender\n",
      "0  John   25    Male\n",
      "1  Mary   30  Female\n",
      "2  Alan   35    Male\n"
     ]
    }
   ],
   "source": [
    "# Print the first three rows of the DataFrame\n",
    "print(\"First three rows of DataFrame df10:\")\n",
    "print(df10.head(3))"
   ]
  },
  {
   "cell_type": "markdown",
   "id": "5aa29a0b",
   "metadata": {},
   "source": [
    "# Question 10: Given the DataFrame df11:\n",
    "   ID  Name\n",
    "0   1  John\n",
    "1   2  Mary\n",
    "2   3  Alan\n",
    "3   4  Zoe\n",
    "4   5  Mark\n",
    "Select and print the row with the ID value of 3."
   ]
  },
  {
   "cell_type": "code",
   "execution_count": 28,
   "id": "3e9ca014",
   "metadata": {},
   "outputs": [],
   "source": [
    "import pandas as pd"
   ]
  },
  {
   "cell_type": "code",
   "execution_count": 29,
   "id": "1628f51e",
   "metadata": {},
   "outputs": [],
   "source": [
    "# Create the DataFrame df11\n",
    "df11 = pd.DataFrame({\n",
    "    'ID': [1, 2, 3, 4, 5],\n",
    "    'Name': ['John', 'Mary', 'Alan', 'Zoe', 'Mark']\n",
    "})"
   ]
  },
  {
   "cell_type": "code",
   "execution_count": 30,
   "id": "047a984e",
   "metadata": {},
   "outputs": [],
   "source": [
    "# Select the row with ID value of 3\n",
    "num = int(input(\"Enter the ID value to select the row: \"))\n",
    "selected_row = df11[df11['ID'] == num]"
   ]
  },
  {
   "cell_type": "code",
   "execution_count": 31,
   "id": "68c70d7a",
   "metadata": {},
   "outputs": [
    {
     "name": "stdout",
     "output_type": "stream",
     "text": [
      "Row with ID value of num:\n",
      "   ID  Name\n",
      "1   2  Mary\n"
     ]
    }
   ],
   "source": [
    "# Print the selected row\n",
    "print(\"Row with ID value of num:\")\n",
    "print(selected_row)"
   ]
  }
 ],
 "metadata": {
  "jupytext": {
   "cell_metadata_filter": "-all",
   "main_language": "python",
   "notebook_metadata_filter": "-all"
  },
  "kernelspec": {
   "display_name": "Python 3",
   "language": "python",
   "name": "python3"
  },
  "language_info": {
   "codemirror_mode": {
    "name": "ipython",
    "version": 3
   },
   "file_extension": ".py",
   "mimetype": "text/x-python",
   "name": "python",
   "nbconvert_exporter": "python",
   "pygments_lexer": "ipython3",
   "version": "3.13.5"
  }
 },
 "nbformat": 4,
 "nbformat_minor": 5
}
